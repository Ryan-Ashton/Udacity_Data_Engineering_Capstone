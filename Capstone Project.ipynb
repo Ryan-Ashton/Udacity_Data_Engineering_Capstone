{
 "cells": [
  {
   "cell_type": "code",
   "execution_count": 1,
   "metadata": {},
   "outputs": [],
   "source": [
    "import quandl\n",
    "import pandas as pd\n",
    "import numpy as np\n",
    "from datetime import datetime, date\n",
    "import missingno as msno\n",
    "import configparser\n",
    "config = configparser.ConfigParser()\n",
    "config.read('config.cfg')\n",
    "\n",
    "from table_preprocess import create_abs_meta_table, create_abs_data_table, create_market_cap_table, create_time_table"
   ]
  },
  {
   "cell_type": "markdown",
   "metadata": {},
   "source": [
    "## Step 1: Scope the Project and Gather Data\n",
    "\n",
    "\n",
    "A fictious Investment Company based in Australia wants to be able to track a Stock Market Capitalisation to GDP ratio by industry: https://www.investopedia.com/terms/m/marketcapgdp.asp#:~:text=The%20stock%20market%20capitalization%2Dto%2DGDP%20ratio%20is%20a%20ratio,compared%20to%20a%20historical%20average.&text=It%20is%20calculated%20by%20dividing,gross%20domestic%20product%20(GDP).\n",
    "\n",
    "They have recruited me as their Data Engineer to utilise free sources from the web to construct a denormalised data table for their internal analysts to use and build visualisations from. They do not currently have an existing Cloud Warehouse provider but are open to investing if they can see a return on their investment in the future. \n",
    "\n",
    "The task is to find Australian GDP chain volume measures by industry and compare this with the current market capitilisation by industry with publicly listed companies in Australia.\n",
    "\n",
    "The Australian Bureau of Statistics is responsible for measuring the Gross Domestic Product and the Australian Securities Exchange is Australia's primary securities exchange, which monitors market capitalisation. \n",
    "\n",
    "Quandl is a data provider in the financial industry which has some free datasets and some paid. Fortunately, they provide Gross Domestic Product figures within their free service, so this will be utilised. The drawback is that **their dataset is over 15 million rows**, so some data manipulation is required.\n",
    "\n",
    "\n",
    "\n"
   ]
  },
  {
   "cell_type": "markdown",
   "metadata": {},
   "source": [
    "### Data Source 1:\n",
    "\n",
    "A Large **CSV** file that contains economic, environmental, and social issues statistics from the Australian Bureau of Statistics. This was downloaded from Quandl: https://www.quandl.com/databases/AUSBS/documentation . **It's data size is: 15,653,933 rows**"
   ]
  },
  {
   "cell_type": "code",
   "execution_count": 2,
   "metadata": {},
   "outputs": [
    {
     "data": {
      "text/plain": [
       "15653933"
      ]
     },
     "execution_count": 2,
     "metadata": {},
     "output_type": "execute_result"
    }
   ],
   "source": [
    "data_source_1 = pd.read_csv(\"Data\\AUSBS_D_44bdddab4eb5d8444be5683469c73cbb.csv\")\n",
    "len(data_source_1)"
   ]
  },
  {
   "cell_type": "markdown",
   "metadata": {},
   "source": [
    "### Data Source 2:\n",
    "\n",
    "The metadata associated with Data Source 1. The data will be retrieved via the Quandl **API**: https://www.quandl.com/tools/api **It's data size is: 102,718 rows**"
   ]
  },
  {
   "cell_type": "code",
   "execution_count": 3,
   "metadata": {},
   "outputs": [
    {
     "data": {
      "text/plain": [
       "102718"
      ]
     },
     "execution_count": 3,
     "metadata": {},
     "output_type": "execute_result"
    }
   ],
   "source": [
    "quandl.ApiConfig.api_key = '1gm_KQciW5FsfU7EmzaY'\n",
    "data_source_2 = quandl.get_table(\"AUSBS/M\", paginate=True)\n",
    "len(data_source_2)"
   ]
  },
  {
   "cell_type": "markdown",
   "metadata": {},
   "source": [
    "### Data Source 3:\n",
    "\n",
    "The 3rd data source is from the  Australian Securities Exchange which is Australia's primary securities exchange (trading shares). This data source will be used to compare the Market Cap of the industries in Australia with the Gross Domestic Product value. The data source is here: https://www2.asx.com.au/markets/trade-our-cash-market/directory\n",
    "\n",
    "It's data size is: 2,003"
   ]
  },
  {
   "cell_type": "code",
   "execution_count": 4,
   "metadata": {},
   "outputs": [
    {
     "data": {
      "text/plain": [
       "2003"
      ]
     },
     "execution_count": 4,
     "metadata": {},
     "output_type": "execute_result"
    }
   ],
   "source": [
    "data_source_3 = pd.read_csv(\"Data\\ASX_Listed_Companies_26-05-2021_12-47-08_AEST.csv\")\n",
    "len(data_source_3)"
   ]
  },
  {
   "cell_type": "markdown",
   "metadata": {},
   "source": [
    "### Data Source 4:\n",
    "\n",
    "The 4th data source is from a **JSON** file which is the 'map' between the ABS economic data and the ASX Market Cap data."
   ]
  },
  {
   "cell_type": "code",
   "execution_count": 5,
   "metadata": {},
   "outputs": [
    {
     "data": {
      "text/plain": [
       "22"
      ]
     },
     "execution_count": 5,
     "metadata": {},
     "output_type": "execute_result"
    }
   ],
   "source": [
    "data_source_4 = pd.read_json(r\"Data\\abs_asx_map.json\")\n",
    "len(data_source_4)"
   ]
  },
  {
   "cell_type": "markdown",
   "metadata": {},
   "source": [
    "## Step 2: Explore and Assess the Data\n",
    "\n",
    "**Please note that there are seperate functions located within `table_preprocess.py` that assist with the pre-processing of the data, these include:**\n",
    "\n",
    "- create_abs_meta_table\n",
    "- create_abs_data_table\n",
    "- create_market_cap_table\n",
    "- create_time_table\n",
    "\n",
    "There is also a JSON mapping table to assist some of these functions - it helps combine the GDP data with the Market Capitilisation Data."
   ]
  },
  {
   "cell_type": "markdown",
   "metadata": {},
   "source": [
    "## create_abs_meta_table"
   ]
  },
  {
   "cell_type": "code",
   "execution_count": 6,
   "metadata": {},
   "outputs": [
    {
     "data": {
      "text/html": [
       "<div>\n",
       "<style scoped>\n",
       "    .dataframe tbody tr th:only-of-type {\n",
       "        vertical-align: middle;\n",
       "    }\n",
       "\n",
       "    .dataframe tbody tr th {\n",
       "        vertical-align: top;\n",
       "    }\n",
       "\n",
       "    .dataframe thead th {\n",
       "        text-align: right;\n",
       "    }\n",
       "</style>\n",
       "<table border=\"1\" class=\"dataframe\">\n",
       "  <thead>\n",
       "    <tr style=\"text-align: right;\">\n",
       "      <th></th>\n",
       "      <th>ABS_CODE_PERCENT_CHNG</th>\n",
       "      <th>ABS_Description</th>\n",
       "      <th>GIC ASX Definition</th>\n",
       "      <th>name</th>\n",
       "      <th>units</th>\n",
       "      <th>type</th>\n",
       "      <th>month</th>\n",
       "    </tr>\n",
       "    <tr>\n",
       "      <th>ABS_CODE_SEASONAL_ADJ</th>\n",
       "      <th></th>\n",
       "      <th></th>\n",
       "      <th></th>\n",
       "      <th></th>\n",
       "      <th></th>\n",
       "      <th></th>\n",
       "      <th></th>\n",
       "    </tr>\n",
       "  </thead>\n",
       "  <tbody>\n",
       "    <tr>\n",
       "      <th>A2716160J</th>\n",
       "      <td>A2716040R</td>\n",
       "      <td>Agriculture, forestry and fishing (A) ;</td>\n",
       "      <td>Food, Beverage &amp; Tobacco</td>\n",
       "      <td>Agriculture, forestry and fishing (A)</td>\n",
       "      <td>$ Millions</td>\n",
       "      <td>Seasonally Adjusted</td>\n",
       "      <td>3</td>\n",
       "    </tr>\n",
       "    <tr>\n",
       "      <th>A2716163R</th>\n",
       "      <td>A2716043W</td>\n",
       "      <td>Mining (B) ;</td>\n",
       "      <td>Energy</td>\n",
       "      <td>Mining (B)</td>\n",
       "      <td>$ Millions</td>\n",
       "      <td>Seasonally Adjusted</td>\n",
       "      <td>3</td>\n",
       "    </tr>\n",
       "    <tr>\n",
       "      <th>A2716166W</th>\n",
       "      <td>A2716046C</td>\n",
       "      <td>Manufacturing (C) ;</td>\n",
       "      <td>Materials</td>\n",
       "      <td>Manufacturing (C)</td>\n",
       "      <td>$ Millions</td>\n",
       "      <td>Seasonally Adjusted</td>\n",
       "      <td>3</td>\n",
       "    </tr>\n",
       "    <tr>\n",
       "      <th>A2716175X</th>\n",
       "      <td>A2716055F</td>\n",
       "      <td>Electricity, gas, water and waste services (D) ;</td>\n",
       "      <td>Energy</td>\n",
       "      <td>Electricity, gas, water and waste services (D)</td>\n",
       "      <td>$ Millions</td>\n",
       "      <td>Seasonally Adjusted</td>\n",
       "      <td>3</td>\n",
       "    </tr>\n",
       "    <tr>\n",
       "      <th>A2716179J</th>\n",
       "      <td>A2716059R</td>\n",
       "      <td>Construction (E) ;</td>\n",
       "      <td>Materials</td>\n",
       "      <td>Construction (E)</td>\n",
       "      <td>$ Millions</td>\n",
       "      <td>Seasonally Adjusted</td>\n",
       "      <td>3</td>\n",
       "    </tr>\n",
       "  </tbody>\n",
       "</table>\n",
       "</div>"
      ],
      "text/plain": [
       "                      ABS_CODE_PERCENT_CHNG  \\\n",
       "ABS_CODE_SEASONAL_ADJ                         \n",
       "A2716160J                         A2716040R   \n",
       "A2716163R                         A2716043W   \n",
       "A2716166W                         A2716046C   \n",
       "A2716175X                         A2716055F   \n",
       "A2716179J                         A2716059R   \n",
       "\n",
       "                                                        ABS_Description  \\\n",
       "ABS_CODE_SEASONAL_ADJ                                                     \n",
       "A2716160J                       Agriculture, forestry and fishing (A) ;   \n",
       "A2716163R                                                  Mining (B) ;   \n",
       "A2716166W                                           Manufacturing (C) ;   \n",
       "A2716175X              Electricity, gas, water and waste services (D) ;   \n",
       "A2716179J                                            Construction (E) ;   \n",
       "\n",
       "                             GIC ASX Definition  \\\n",
       "ABS_CODE_SEASONAL_ADJ                             \n",
       "A2716160J              Food, Beverage & Tobacco   \n",
       "A2716163R                                Energy   \n",
       "A2716166W                             Materials   \n",
       "A2716175X                                Energy   \n",
       "A2716179J                             Materials   \n",
       "\n",
       "                                                                 name  \\\n",
       "ABS_CODE_SEASONAL_ADJ                                                   \n",
       "A2716160J                       Agriculture, forestry and fishing (A)   \n",
       "A2716163R                                                  Mining (B)   \n",
       "A2716166W                                           Manufacturing (C)   \n",
       "A2716175X              Electricity, gas, water and waste services (D)   \n",
       "A2716179J                                            Construction (E)   \n",
       "\n",
       "                            units                 type month  \n",
       "ABS_CODE_SEASONAL_ADJ                                         \n",
       "A2716160J              $ Millions  Seasonally Adjusted     3  \n",
       "A2716163R              $ Millions  Seasonally Adjusted     3  \n",
       "A2716166W              $ Millions  Seasonally Adjusted     3  \n",
       "A2716175X              $ Millions  Seasonally Adjusted     3  \n",
       "A2716179J              $ Millions  Seasonally Adjusted     3  "
      ]
     },
     "execution_count": 6,
     "metadata": {},
     "output_type": "execute_result"
    }
   ],
   "source": [
    "abs_meta_data = create_abs_meta_table(config.get('QUANDL','API'), r\"Data\\abs_asx_map.json\")\n",
    "abs_meta_data.head()"
   ]
  },
  {
   "cell_type": "code",
   "execution_count": 7,
   "metadata": {},
   "outputs": [
    {
     "name": "stdout",
     "output_type": "stream",
     "text": [
      "Is there any duplicates:  False\n"
     ]
    }
   ],
   "source": [
    "print(\"Is there any duplicates: \", abs_meta_data.duplicated().any())"
   ]
  },
  {
   "cell_type": "code",
   "execution_count": 8,
   "metadata": {},
   "outputs": [
    {
     "data": {
      "text/plain": [
       "<matplotlib.axes._subplots.AxesSubplot at 0x211ef667100>"
      ]
     },
     "execution_count": 8,
     "metadata": {},
     "output_type": "execute_result"
    },
    {
     "data": {
      "image/png": "[encoded data removed]",
      "text/plain": [
       "<Figure size 1800x720 with 2 Axes>"
      ]
     },
     "metadata": {
      "needs_background": "light"
     },
     "output_type": "display_data"
    }
   ],
   "source": [
    "# Any missing data?\n",
    "\n",
    "msno.matrix(abs_meta_data)"
   ]
  },
  {
   "cell_type": "markdown",
   "metadata": {},
   "source": [
    "## create_abs_data_table"
   ]
  },
  {
   "cell_type": "code",
   "execution_count": 9,
   "metadata": {
    "scrolled": true
   },
   "outputs": [
    {
     "data": {
      "text/html": [
       "<div>\n",
       "<style scoped>\n",
       "    .dataframe tbody tr th:only-of-type {\n",
       "        vertical-align: middle;\n",
       "    }\n",
       "\n",
       "    .dataframe tbody tr th {\n",
       "        vertical-align: top;\n",
       "    }\n",
       "\n",
       "    .dataframe thead th {\n",
       "        text-align: right;\n",
       "    }\n",
       "</style>\n",
       "<table border=\"1\" class=\"dataframe\">\n",
       "  <thead>\n",
       "    <tr style=\"text-align: right;\">\n",
       "      <th></th>\n",
       "      <th>ABS_Description</th>\n",
       "      <th>GIC ASX Definition</th>\n",
       "      <th>name</th>\n",
       "      <th>date</th>\n",
       "      <th>seasonal_adjusted_chain_volume_measure</th>\n",
       "    </tr>\n",
       "    <tr>\n",
       "      <th>index</th>\n",
       "      <th></th>\n",
       "      <th></th>\n",
       "      <th></th>\n",
       "      <th></th>\n",
       "      <th></th>\n",
       "    </tr>\n",
       "  </thead>\n",
       "  <tbody>\n",
       "    <tr>\n",
       "      <th>Statistical discrepancy (P) ;-2020-03-01</th>\n",
       "      <td>Statistical discrepancy (P) ;</td>\n",
       "      <td>NA</td>\n",
       "      <td>Statistical discrepancy (P)</td>\n",
       "      <td>2020-03-01</td>\n",
       "      <td>9.390000e+08</td>\n",
       "    </tr>\n",
       "    <tr>\n",
       "      <th>Statistical discrepancy (P) ;-2020-06-01</th>\n",
       "      <td>Statistical discrepancy (P) ;</td>\n",
       "      <td>NA</td>\n",
       "      <td>Statistical discrepancy (P)</td>\n",
       "      <td>2020-06-01</td>\n",
       "      <td>1.195000e+09</td>\n",
       "    </tr>\n",
       "    <tr>\n",
       "      <th>Statistical discrepancy (P) ;-2018-09-01</th>\n",
       "      <td>Statistical discrepancy (P) ;</td>\n",
       "      <td>NA</td>\n",
       "      <td>Statistical discrepancy (P)</td>\n",
       "      <td>2018-09-01</td>\n",
       "      <td>1.211000e+09</td>\n",
       "    </tr>\n",
       "    <tr>\n",
       "      <th>Statistical discrepancy (P) ;-2018-12-01</th>\n",
       "      <td>Statistical discrepancy (P) ;</td>\n",
       "      <td>NA</td>\n",
       "      <td>Statistical discrepancy (P)</td>\n",
       "      <td>2018-12-01</td>\n",
       "      <td>1.271000e+09</td>\n",
       "    </tr>\n",
       "    <tr>\n",
       "      <th>Statistical discrepancy (P) ;-2019-03-01</th>\n",
       "      <td>Statistical discrepancy (P) ;</td>\n",
       "      <td>NA</td>\n",
       "      <td>Statistical discrepancy (P)</td>\n",
       "      <td>2019-03-01</td>\n",
       "      <td>4.640000e+08</td>\n",
       "    </tr>\n",
       "  </tbody>\n",
       "</table>\n",
       "</div>"
      ],
      "text/plain": [
       "                                                        ABS_Description  \\\n",
       "index                                                                     \n",
       "Statistical discrepancy (P) ;-2020-03-01  Statistical discrepancy (P) ;   \n",
       "Statistical discrepancy (P) ;-2020-06-01  Statistical discrepancy (P) ;   \n",
       "Statistical discrepancy (P) ;-2018-09-01  Statistical discrepancy (P) ;   \n",
       "Statistical discrepancy (P) ;-2018-12-01  Statistical discrepancy (P) ;   \n",
       "Statistical discrepancy (P) ;-2019-03-01  Statistical discrepancy (P) ;   \n",
       "\n",
       "                                         GIC ASX Definition  \\\n",
       "index                                                         \n",
       "Statistical discrepancy (P) ;-2020-03-01                 NA   \n",
       "Statistical discrepancy (P) ;-2020-06-01                 NA   \n",
       "Statistical discrepancy (P) ;-2018-09-01                 NA   \n",
       "Statistical discrepancy (P) ;-2018-12-01                 NA   \n",
       "Statistical discrepancy (P) ;-2019-03-01                 NA   \n",
       "\n",
       "                                                                 name  \\\n",
       "index                                                                   \n",
       "Statistical discrepancy (P) ;-2020-03-01  Statistical discrepancy (P)   \n",
       "Statistical discrepancy (P) ;-2020-06-01  Statistical discrepancy (P)   \n",
       "Statistical discrepancy (P) ;-2018-09-01  Statistical discrepancy (P)   \n",
       "Statistical discrepancy (P) ;-2018-12-01  Statistical discrepancy (P)   \n",
       "Statistical discrepancy (P) ;-2019-03-01  Statistical discrepancy (P)   \n",
       "\n",
       "                                                date  \\\n",
       "index                                                  \n",
       "Statistical discrepancy (P) ;-2020-03-01  2020-03-01   \n",
       "Statistical discrepancy (P) ;-2020-06-01  2020-06-01   \n",
       "Statistical discrepancy (P) ;-2018-09-01  2018-09-01   \n",
       "Statistical discrepancy (P) ;-2018-12-01  2018-12-01   \n",
       "Statistical discrepancy (P) ;-2019-03-01  2019-03-01   \n",
       "\n",
       "                                          seasonal_adjusted_chain_volume_measure  \n",
       "index                                                                             \n",
       "Statistical discrepancy (P) ;-2020-03-01                            9.390000e+08  \n",
       "Statistical discrepancy (P) ;-2020-06-01                            1.195000e+09  \n",
       "Statistical discrepancy (P) ;-2018-09-01                            1.211000e+09  \n",
       "Statistical discrepancy (P) ;-2018-12-01                            1.271000e+09  \n",
       "Statistical discrepancy (P) ;-2019-03-01                            4.640000e+08  "
      ]
     },
     "execution_count": 9,
     "metadata": {},
     "output_type": "execute_result"
    }
   ],
   "source": [
    "abs_data_table = create_abs_data_table(\"Data\\AUSBS_D_44bdddab4eb5d8444be5683469c73cbb.csv\", abs_meta_data)\n",
    "abs_data_table.head()"
   ]
  },
  {
   "cell_type": "code",
   "execution_count": 10,
   "metadata": {},
   "outputs": [
    {
     "name": "stdout",
     "output_type": "stream",
     "text": [
      "Is there any duplicates:  False\n"
     ]
    }
   ],
   "source": [
    "print(\"Is there any duplicates: \", abs_data_table.duplicated().any())"
   ]
  },
  {
   "cell_type": "code",
   "execution_count": 11,
   "metadata": {},
   "outputs": [
    {
     "data": {
      "text/plain": [
       "<matplotlib.axes._subplots.AxesSubplot at 0x211808df760>"
      ]
     },
     "execution_count": 11,
     "metadata": {},
     "output_type": "execute_result"
    },
    {
     "data": {
      "image/png": "[encoded data removed]",
      "text/plain": [
       "<Figure size 1800x720 with 2 Axes>"
      ]
     },
     "metadata": {
      "needs_background": "light"
     },
     "output_type": "display_data"
    }
   ],
   "source": [
    "# Any missing data?\n",
    "\n",
    "msno.matrix(abs_data_table)"
   ]
  },
  {
   "cell_type": "markdown",
   "metadata": {},
   "source": [
    "## create_market_cap_table"
   ]
  },
  {
   "cell_type": "code",
   "execution_count": 12,
   "metadata": {},
   "outputs": [
    {
     "data": {
      "text/html": [
       "<div>\n",
       "<style scoped>\n",
       "    .dataframe tbody tr th:only-of-type {\n",
       "        vertical-align: middle;\n",
       "    }\n",
       "\n",
       "    .dataframe tbody tr th {\n",
       "        vertical-align: top;\n",
       "    }\n",
       "\n",
       "    .dataframe thead th {\n",
       "        text-align: right;\n",
       "    }\n",
       "</style>\n",
       "<table border=\"1\" class=\"dataframe\">\n",
       "  <thead>\n",
       "    <tr style=\"text-align: right;\">\n",
       "      <th></th>\n",
       "      <th>Market Cap Today</th>\n",
       "    </tr>\n",
       "    <tr>\n",
       "      <th>ABS_Description</th>\n",
       "      <th></th>\n",
       "    </tr>\n",
       "  </thead>\n",
       "  <tbody>\n",
       "    <tr>\n",
       "      <th>Accommodation and food services (H) ;</th>\n",
       "      <td>0.000000e+00</td>\n",
       "    </tr>\n",
       "    <tr>\n",
       "      <th>Administrative and support services (N) ;</th>\n",
       "      <td>4.032089e+10</td>\n",
       "    </tr>\n",
       "    <tr>\n",
       "      <th>Agriculture, forestry and fishing (A) ;</th>\n",
       "      <td>2.742038e+10</td>\n",
       "    </tr>\n",
       "    <tr>\n",
       "      <th>Arts and recreation services (R) ;</th>\n",
       "      <td>9.152242e+10</td>\n",
       "    </tr>\n",
       "    <tr>\n",
       "      <th>Construction (E) ;</th>\n",
       "      <td>5.647008e+11</td>\n",
       "    </tr>\n",
       "  </tbody>\n",
       "</table>\n",
       "</div>"
      ],
      "text/plain": [
       "                                           Market Cap Today\n",
       "ABS_Description                                            \n",
       "Accommodation and food services (H) ;          0.000000e+00\n",
       "Administrative and support services (N) ;      4.032089e+10\n",
       "Agriculture, forestry and fishing (A) ;        2.742038e+10\n",
       "Arts and recreation services (R) ;             9.152242e+10\n",
       "Construction (E) ;                             5.647008e+11"
      ]
     },
     "execution_count": 12,
     "metadata": {},
     "output_type": "execute_result"
    }
   ],
   "source": [
    "market_cap_table = create_market_cap_table(\"Data\\ASX_Listed_Companies_26-05-2021_12-47-08_AEST.csv\", r\"Data\\abs_asx_map.json\")\n",
    "market_cap_table.head()"
   ]
  },
  {
   "cell_type": "code",
   "execution_count": 13,
   "metadata": {},
   "outputs": [
    {
     "name": "stdout",
     "output_type": "stream",
     "text": [
      "<class 'pandas.core.frame.DataFrame'>\n",
      "Index: 22 entries, Accommodation and food services (H) ; to Wholesale trade (F) ;\n",
      "Data columns (total 1 columns):\n",
      " #   Column            Non-Null Count  Dtype  \n",
      "---  ------            --------------  -----  \n",
      " 0   Market Cap Today  22 non-null     float64\n",
      "dtypes: float64(1)\n",
      "memory usage: 352.0+ bytes\n"
     ]
    }
   ],
   "source": [
    "market_cap_table.info()"
   ]
  },
  {
   "cell_type": "markdown",
   "metadata": {},
   "source": [
    "### Mining (B) and Electricity, gas, water and waste services (D) share the same distribution of value - this is OK\n",
    "\n",
    "### Some industries will have zero market cap - this is also OK\n"
   ]
  },
  {
   "cell_type": "code",
   "execution_count": 14,
   "metadata": {},
   "outputs": [
    {
     "name": "stdout",
     "output_type": "stream",
     "text": [
      "Is there any duplicates:  False\n"
     ]
    },
    {
     "name": "stderr",
     "output_type": "stream",
     "text": [
      "C:\\Users\\ryana\\anaconda3\\lib\\site-packages\\pandas\\core\\ops\\array_ops.py:253: FutureWarning: elementwise comparison failed; returning scalar instead, but in the future will perform elementwise comparison\n",
      "  res_values = method(rvalues)\n"
     ]
    }
   ],
   "source": [
    "check_market_cap_table = market_cap_table\n",
    "\n",
    "check_market_cap_table.reset_index(inplace=True)\n",
    "\n",
    "check_market_cap_table = market_cap_table[(market_cap_table[\"Market Cap Today\"] > 1) & market_cap_table[\"ABS_Description\"] != \"Mining (B) ;\"]\n",
    "\n",
    "print(\"Is there any duplicates: \", check_market_cap_table.duplicated().any())\n"
   ]
  },
  {
   "cell_type": "code",
   "execution_count": 15,
   "metadata": {},
   "outputs": [
    {
     "data": {
      "text/plain": [
       "<matplotlib.axes._subplots.AxesSubplot at 0x211867486d0>"
      ]
     },
     "execution_count": 15,
     "metadata": {},
     "output_type": "execute_result"
    },
    {
     "data": {
      "image/png": "[encoded data removed]",
      "text/plain": [
       "<Figure size 1800x720 with 2 Axes>"
      ]
     },
     "metadata": {
      "needs_background": "light"
     },
     "output_type": "display_data"
    }
   ],
   "source": [
    "# Any missing data?\n",
    "\n",
    "msno.matrix(market_cap_table)"
   ]
  },
  {
   "cell_type": "markdown",
   "metadata": {},
   "source": [
    "## create_time_table"
   ]
  },
  {
   "cell_type": "code",
   "execution_count": 16,
   "metadata": {},
   "outputs": [
    {
     "data": {
      "text/html": [
       "<div>\n",
       "<style scoped>\n",
       "    .dataframe tbody tr th:only-of-type {\n",
       "        vertical-align: middle;\n",
       "    }\n",
       "\n",
       "    .dataframe tbody tr th {\n",
       "        vertical-align: top;\n",
       "    }\n",
       "\n",
       "    .dataframe thead th {\n",
       "        text-align: right;\n",
       "    }\n",
       "</style>\n",
       "<table border=\"1\" class=\"dataframe\">\n",
       "  <thead>\n",
       "    <tr style=\"text-align: right;\">\n",
       "      <th></th>\n",
       "      <th>day</th>\n",
       "      <th>week</th>\n",
       "      <th>month</th>\n",
       "      <th>quarter</th>\n",
       "      <th>year</th>\n",
       "    </tr>\n",
       "    <tr>\n",
       "      <th>date</th>\n",
       "      <th></th>\n",
       "      <th></th>\n",
       "      <th></th>\n",
       "      <th></th>\n",
       "      <th></th>\n",
       "    </tr>\n",
       "  </thead>\n",
       "  <tbody>\n",
       "    <tr>\n",
       "      <th>1950-01-02</th>\n",
       "      <td>2</td>\n",
       "      <td>1</td>\n",
       "      <td>1</td>\n",
       "      <td>1</td>\n",
       "      <td>1950</td>\n",
       "    </tr>\n",
       "    <tr>\n",
       "      <th>1950-01-03</th>\n",
       "      <td>3</td>\n",
       "      <td>1</td>\n",
       "      <td>1</td>\n",
       "      <td>1</td>\n",
       "      <td>1950</td>\n",
       "    </tr>\n",
       "    <tr>\n",
       "      <th>1950-01-04</th>\n",
       "      <td>4</td>\n",
       "      <td>1</td>\n",
       "      <td>1</td>\n",
       "      <td>1</td>\n",
       "      <td>1950</td>\n",
       "    </tr>\n",
       "    <tr>\n",
       "      <th>1950-01-05</th>\n",
       "      <td>5</td>\n",
       "      <td>1</td>\n",
       "      <td>1</td>\n",
       "      <td>1</td>\n",
       "      <td>1950</td>\n",
       "    </tr>\n",
       "    <tr>\n",
       "      <th>1950-01-06</th>\n",
       "      <td>6</td>\n",
       "      <td>1</td>\n",
       "      <td>1</td>\n",
       "      <td>1</td>\n",
       "      <td>1950</td>\n",
       "    </tr>\n",
       "  </tbody>\n",
       "</table>\n",
       "</div>"
      ],
      "text/plain": [
       "            day  week  month  quarter  year\n",
       "date                                       \n",
       "1950-01-02    2     1      1        1  1950\n",
       "1950-01-03    3     1      1        1  1950\n",
       "1950-01-04    4     1      1        1  1950\n",
       "1950-01-05    5     1      1        1  1950\n",
       "1950-01-06    6     1      1        1  1950"
      ]
     },
     "execution_count": 16,
     "metadata": {},
     "output_type": "execute_result"
    }
   ],
   "source": [
    "time_table = create_time_table() \n",
    "time_table.head()"
   ]
  },
  {
   "cell_type": "code",
   "execution_count": 17,
   "metadata": {},
   "outputs": [
    {
     "name": "stdout",
     "output_type": "stream",
     "text": [
      "Is there any duplicates:  False\n"
     ]
    }
   ],
   "source": [
    "print(\"Is there any duplicates: \", time_table.duplicated().any())"
   ]
  },
  {
   "cell_type": "code",
   "execution_count": 18,
   "metadata": {},
   "outputs": [
    {
     "data": {
      "text/plain": [
       "<matplotlib.axes._subplots.AxesSubplot at 0x21184d050d0>"
      ]
     },
     "execution_count": 18,
     "metadata": {},
     "output_type": "execute_result"
    },
    {
     "data": {
      "image/png": "[encoded data removed]",
      "text/plain": [
       "<Figure size 1800x720 with 2 Axes>"
      ]
     },
     "metadata": {
      "needs_background": "light"
     },
     "output_type": "display_data"
    }
   ],
   "source": [
    "msno.matrix(time_table)"
   ]
  },
  {
   "cell_type": "markdown",
   "metadata": {},
   "source": [
    "## Step 3: Define the Data Model\n",
    "\n",
    "\n",
    "Because the requirement is to have a denormalised table which contains GDP data over time compared with market capitalisation data, the schema can appear as the following:\n",
    "\n",
    "\n",
    "\n",
    "![image.png](assets/schema.png)\n",
    "\n",
    "\n",
    "The tables that join to create the final Fact Table need their own preprocessing which is explained in Step 4 below.\n"
   ]
  },
  {
   "attachments": {},
   "cell_type": "markdown",
   "metadata": {},
   "source": [
    "## Step 4: Run ETL to Model the Data\n",
    "\n",
    "\n",
    "## The ETL Big Picture:\n",
    "\n",
    "![image.png](assets/etl.png)\n",
    "\n",
    "## Data Dictionary\n",
    "\n",
    "\n",
    "**ABS** \n",
    "\n",
    "Two tables will be combined to create the ABS data - the first is a dimension table that will contain metadata from the ABS data. \n",
    "\n",
    "- ABS_CODE_SEASONAL_ADJ = varchar (unique)\n",
    "- ABS_CODE_PERCENT_CHNG = varchar\n",
    "- ABS_Description = varchar\n",
    "- GIC ASX Definition = varchar\n",
    "- name = varchar\n",
    "- units = varchar\n",
    "- type = varchar\n",
    "- month = varchar\n",
    "\n",
    "\n",
    "The second is the ABS data measure with time series.\n",
    "\n",
    "- series_id = varchar (unique in combination with date)\n",
    "- date = varchar\n",
    "- value = float64\n",
    "\n",
    "This gets converted to the ABS Data Table:\n",
    "\n",
    "- ABS_Description - varchar\n",
    "- GIC ASX Definition - varchar\n",
    "- name - varchar\n",
    "- date - varchar\n",
    "- seasonal_adjusted_chain_volume_measure - float64\n",
    "\n",
    "\n",
    "The Market Cap Data is provided by individual company which rolls up to industries:\n",
    "\n",
    "- ASX code - varchar\n",
    "- Company name - varchar\n",
    "- Listing date - varchar\n",
    "- GICs industry group - varchar (this is aggregated and becomes unique)\n",
    "- Market Cap - float64 (sum)\n",
    "\n",
    "The time table is the next dimension table\n",
    "\n",
    "- date - varchar (unique)\n",
    "- day - int64\n",
    "- week - int64\n",
    "- month - int64\n",
    "- quarter - int64\n",
    "- year - int64\n",
    "\n",
    "The final Fact Table becomes:\n",
    "\n",
    "- index - varchar (unique)\n",
    "- ABS_Description - varchar\n",
    "- GIC ASX Definition - varchar\n",
    "- name - varchar\n",
    "- date - varchar\n",
    "- seasonal_adjusted_chain_volume_measure - float64\n",
    "- Market Cap Today - float64\n",
    "- day - int64\n",
    "- week - int64\n",
    "- month - int64\n",
    "- quarter - int64\n",
    "- year - int64\n",
    "\n",
    "\n",
    "\n",
    "## Testing of Data\n",
    "\n",
    "The data is tested to ensure there are no empty (nulls) within the tables and is tested for consistency of date ranges. Please see below under \"Quality Check Functions X2\"\n"
   ]
  },
  {
   "cell_type": "code",
   "execution_count": null,
   "metadata": {},
   "outputs": [],
   "source": []
  },
  {
   "cell_type": "markdown",
   "metadata": {},
   "source": [
    "## Create the Final Fact Table\n",
    "\n",
    "### Found in the file - `create_fact_table.py`"
   ]
  },
  {
   "cell_type": "code",
   "execution_count": 19,
   "metadata": {},
   "outputs": [
    {
     "data": {
      "text/html": [
       "<div>\n",
       "<style scoped>\n",
       "    .dataframe tbody tr th:only-of-type {\n",
       "        vertical-align: middle;\n",
       "    }\n",
       "\n",
       "    .dataframe tbody tr th {\n",
       "        vertical-align: top;\n",
       "    }\n",
       "\n",
       "    .dataframe thead th {\n",
       "        text-align: right;\n",
       "    }\n",
       "</style>\n",
       "<table border=\"1\" class=\"dataframe\">\n",
       "  <thead>\n",
       "    <tr style=\"text-align: right;\">\n",
       "      <th></th>\n",
       "      <th>ABS_Description</th>\n",
       "      <th>GIC ASX Definition</th>\n",
       "      <th>name</th>\n",
       "      <th>date</th>\n",
       "      <th>seasonal_adjusted_chain_volume_measure</th>\n",
       "      <th>Market Cap Today</th>\n",
       "      <th>day</th>\n",
       "      <th>week</th>\n",
       "      <th>month</th>\n",
       "      <th>quarter</th>\n",
       "      <th>year</th>\n",
       "    </tr>\n",
       "    <tr>\n",
       "      <th>index</th>\n",
       "      <th></th>\n",
       "      <th></th>\n",
       "      <th></th>\n",
       "      <th></th>\n",
       "      <th></th>\n",
       "      <th></th>\n",
       "      <th></th>\n",
       "      <th></th>\n",
       "      <th></th>\n",
       "      <th></th>\n",
       "      <th></th>\n",
       "    </tr>\n",
       "  </thead>\n",
       "  <tbody>\n",
       "    <tr>\n",
       "      <th>Statistical discrepancy (P) ;-2020-03-01</th>\n",
       "      <td>Statistical discrepancy (P) ;</td>\n",
       "      <td>Definition Not Found - Check Map File</td>\n",
       "      <td>Statistical discrepancy (P)</td>\n",
       "      <td>2020-03-01</td>\n",
       "      <td>9.390000e+08</td>\n",
       "      <td>0.0</td>\n",
       "      <td>1</td>\n",
       "      <td>9</td>\n",
       "      <td>3</td>\n",
       "      <td>1</td>\n",
       "      <td>2020</td>\n",
       "    </tr>\n",
       "    <tr>\n",
       "      <th>Statistical discrepancy (P) ;-2020-06-01</th>\n",
       "      <td>Statistical discrepancy (P) ;</td>\n",
       "      <td>Definition Not Found - Check Map File</td>\n",
       "      <td>Statistical discrepancy (P)</td>\n",
       "      <td>2020-06-01</td>\n",
       "      <td>1.195000e+09</td>\n",
       "      <td>0.0</td>\n",
       "      <td>1</td>\n",
       "      <td>23</td>\n",
       "      <td>6</td>\n",
       "      <td>2</td>\n",
       "      <td>2020</td>\n",
       "    </tr>\n",
       "    <tr>\n",
       "      <th>Statistical discrepancy (P) ;-2018-09-01</th>\n",
       "      <td>Statistical discrepancy (P) ;</td>\n",
       "      <td>Definition Not Found - Check Map File</td>\n",
       "      <td>Statistical discrepancy (P)</td>\n",
       "      <td>2018-09-01</td>\n",
       "      <td>1.211000e+09</td>\n",
       "      <td>0.0</td>\n",
       "      <td>1</td>\n",
       "      <td>35</td>\n",
       "      <td>9</td>\n",
       "      <td>3</td>\n",
       "      <td>2018</td>\n",
       "    </tr>\n",
       "    <tr>\n",
       "      <th>Statistical discrepancy (P) ;-2018-12-01</th>\n",
       "      <td>Statistical discrepancy (P) ;</td>\n",
       "      <td>Definition Not Found - Check Map File</td>\n",
       "      <td>Statistical discrepancy (P)</td>\n",
       "      <td>2018-12-01</td>\n",
       "      <td>1.271000e+09</td>\n",
       "      <td>0.0</td>\n",
       "      <td>1</td>\n",
       "      <td>48</td>\n",
       "      <td>12</td>\n",
       "      <td>4</td>\n",
       "      <td>2018</td>\n",
       "    </tr>\n",
       "    <tr>\n",
       "      <th>Statistical discrepancy (P) ;-2019-03-01</th>\n",
       "      <td>Statistical discrepancy (P) ;</td>\n",
       "      <td>Definition Not Found - Check Map File</td>\n",
       "      <td>Statistical discrepancy (P)</td>\n",
       "      <td>2019-03-01</td>\n",
       "      <td>4.640000e+08</td>\n",
       "      <td>0.0</td>\n",
       "      <td>1</td>\n",
       "      <td>9</td>\n",
       "      <td>3</td>\n",
       "      <td>1</td>\n",
       "      <td>2019</td>\n",
       "    </tr>\n",
       "  </tbody>\n",
       "</table>\n",
       "</div>"
      ],
      "text/plain": [
       "                                                        ABS_Description  \\\n",
       "index                                                                     \n",
       "Statistical discrepancy (P) ;-2020-03-01  Statistical discrepancy (P) ;   \n",
       "Statistical discrepancy (P) ;-2020-06-01  Statistical discrepancy (P) ;   \n",
       "Statistical discrepancy (P) ;-2018-09-01  Statistical discrepancy (P) ;   \n",
       "Statistical discrepancy (P) ;-2018-12-01  Statistical discrepancy (P) ;   \n",
       "Statistical discrepancy (P) ;-2019-03-01  Statistical discrepancy (P) ;   \n",
       "\n",
       "                                                             GIC ASX Definition  \\\n",
       "index                                                                             \n",
       "Statistical discrepancy (P) ;-2020-03-01  Definition Not Found - Check Map File   \n",
       "Statistical discrepancy (P) ;-2020-06-01  Definition Not Found - Check Map File   \n",
       "Statistical discrepancy (P) ;-2018-09-01  Definition Not Found - Check Map File   \n",
       "Statistical discrepancy (P) ;-2018-12-01  Definition Not Found - Check Map File   \n",
       "Statistical discrepancy (P) ;-2019-03-01  Definition Not Found - Check Map File   \n",
       "\n",
       "                                                                 name  \\\n",
       "index                                                                   \n",
       "Statistical discrepancy (P) ;-2020-03-01  Statistical discrepancy (P)   \n",
       "Statistical discrepancy (P) ;-2020-06-01  Statistical discrepancy (P)   \n",
       "Statistical discrepancy (P) ;-2018-09-01  Statistical discrepancy (P)   \n",
       "Statistical discrepancy (P) ;-2018-12-01  Statistical discrepancy (P)   \n",
       "Statistical discrepancy (P) ;-2019-03-01  Statistical discrepancy (P)   \n",
       "\n",
       "                                                date  \\\n",
       "index                                                  \n",
       "Statistical discrepancy (P) ;-2020-03-01  2020-03-01   \n",
       "Statistical discrepancy (P) ;-2020-06-01  2020-06-01   \n",
       "Statistical discrepancy (P) ;-2018-09-01  2018-09-01   \n",
       "Statistical discrepancy (P) ;-2018-12-01  2018-12-01   \n",
       "Statistical discrepancy (P) ;-2019-03-01  2019-03-01   \n",
       "\n",
       "                                          seasonal_adjusted_chain_volume_measure  \\\n",
       "index                                                                              \n",
       "Statistical discrepancy (P) ;-2020-03-01                            9.390000e+08   \n",
       "Statistical discrepancy (P) ;-2020-06-01                            1.195000e+09   \n",
       "Statistical discrepancy (P) ;-2018-09-01                            1.211000e+09   \n",
       "Statistical discrepancy (P) ;-2018-12-01                            1.271000e+09   \n",
       "Statistical discrepancy (P) ;-2019-03-01                            4.640000e+08   \n",
       "\n",
       "                                          Market Cap Today  day  week  month  \\\n",
       "index                                                                          \n",
       "Statistical discrepancy (P) ;-2020-03-01               0.0    1     9      3   \n",
       "Statistical discrepancy (P) ;-2020-06-01               0.0    1    23      6   \n",
       "Statistical discrepancy (P) ;-2018-09-01               0.0    1    35      9   \n",
       "Statistical discrepancy (P) ;-2018-12-01               0.0    1    48     12   \n",
       "Statistical discrepancy (P) ;-2019-03-01               0.0    1     9      3   \n",
       "\n",
       "                                          quarter  year  \n",
       "index                                                    \n",
       "Statistical discrepancy (P) ;-2020-03-01        1  2020  \n",
       "Statistical discrepancy (P) ;-2020-06-01        2  2020  \n",
       "Statistical discrepancy (P) ;-2018-09-01        3  2018  \n",
       "Statistical discrepancy (P) ;-2018-12-01        4  2018  \n",
       "Statistical discrepancy (P) ;-2019-03-01        1  2019  "
      ]
     },
     "execution_count": 19,
     "metadata": {},
     "output_type": "execute_result"
    }
   ],
   "source": [
    "from create_fact_table import create_fact_t\n",
    "\n",
    "fact_table = create_fact_t(create_abs_data_table, create_market_cap_table, create_time_table)\n",
    "fact_table.head()"
   ]
  },
  {
   "cell_type": "code",
   "execution_count": 20,
   "metadata": {},
   "outputs": [
    {
     "name": "stdout",
     "output_type": "stream",
     "text": [
      "Is there any duplicates:  False\n"
     ]
    }
   ],
   "source": [
    "print(\"Is there any duplicates: \", fact_table.duplicated().any())"
   ]
  },
  {
   "cell_type": "code",
   "execution_count": 21,
   "metadata": {},
   "outputs": [
    {
     "data": {
      "text/plain": [
       "<matplotlib.axes._subplots.AxesSubplot at 0x211866b9730>"
      ]
     },
     "execution_count": 21,
     "metadata": {},
     "output_type": "execute_result"
    },
    {
     "data": {
      "image/png": "[encoded data removed]",
      "text/plain": [
       "<Figure size 1800x720 with 2 Axes>"
      ]
     },
     "metadata": {
      "needs_background": "light"
     },
     "output_type": "display_data"
    }
   ],
   "source": [
    "msno.matrix(fact_table)"
   ]
  },
  {
   "cell_type": "markdown",
   "metadata": {},
   "source": [
    "# Quality Check Functions X2\n",
    "\n",
    "### Located in `data_checks.py`\n",
    "\n",
    "Below we test all the pre-processed tables and the fact table for:\n",
    "\n",
    "- Any missing data (are there any nulls or blanks)\n",
    "- Date Range Check in Fact Table (all industries must have the same date range otherwise the source data is wrong)\n"
   ]
  },
  {
   "cell_type": "code",
   "execution_count": 22,
   "metadata": {},
   "outputs": [
    {
     "name": "stdout",
     "output_type": "stream",
     "text": [
      "Table looks good to use\n",
      "Table looks good to use\n",
      "Table looks good to use\n",
      "Table looks good to use\n",
      "Table looks good to use\n"
     ]
    }
   ],
   "source": [
    "from data_checks import any_missing_data, date_range_check\n",
    "\n",
    "any_missing_data(abs_meta_data)\n",
    "any_missing_data(abs_data_table)\n",
    "any_missing_data(market_cap_table)\n",
    "any_missing_data(fact_table)\n",
    "any_missing_data(time_table)"
   ]
  },
  {
   "cell_type": "code",
   "execution_count": 23,
   "metadata": {},
   "outputs": [
    {
     "name": "stdout",
     "output_type": "stream",
     "text": [
      "Date range is correct\n"
     ]
    }
   ],
   "source": [
    "date_range_check(fact_table)"
   ]
  },
  {
   "cell_type": "markdown",
   "metadata": {},
   "source": [
    "## Step 5: Complete Project Write Up\n",
    "\n",
    "The final goal from this data engineering project is to provide a fact table to the analysts so they can develop a dashboard with either PowerBi or Tableau. The final Fact Table is around ~4100 rows, so therefore a CSV format will suffice for this requirement for now.\n",
    "\n",
    "**If the data was increased by 100x**\n",
    "\n",
    "If the data increases by 100x, then more advanced techniques would need to be considered. Currently there is some Dask implemented in this data pipeline in preparation for the data size to increase. The Dask framework works on top of Pandas and provides a method of parallel computations on single machine by leveraging the multi-core CPUs - rather than a single core. PySpark can also be a solution if the data starts to increase 1000x.\n",
    "\n",
    "**If the pipelines were run on a daily basis by 7am**\n",
    "\n",
    "If the company's laptops are using Windows OS, then Task Scheduler can be used to help run the pipelines at 7am.\n",
    "\n",
    "If this is not sufficient, or the requirements start to increase, then Airflow could be used to help run the ETL effectively with a lot more customisation in the scheduler. \n",
    "\n",
    "Note: Because it is GDP and Market Cap data, these insights would normally be presented Monthly or Quarterly.\n",
    "\n",
    "**If the database needed to be accessed by 100+ people**\n",
    "\n",
    "As the data can be currently accessible via a CSV file, it is highly accessible. If we needed more controls around security, then AWS would be useful with their IAM and Roles security levels.\n",
    "\n",
    "\n",
    "**Summary**\n",
    "\n",
    "Because the final solution is straight forward and provides some insight and value to this fictious Finance company in Australia, the costs and complexity also need to match this requirement. As the requirements increase, the model needs to be able to quickly scale - which is achieved in this project as it is utilising Python in a modular way and already has some form of parallel computations built in with the flask framework.\n",
    "\n"
   ]
  },
  {
   "cell_type": "code",
   "execution_count": null,
   "metadata": {},
   "outputs": [],
   "source": []
  }
 ],
 "metadata": {
  "kernelspec": {
   "display_name": "Python 3",
   "language": "python",
   "name": "python3"
  },
  "language_info": {
   "codemirror_mode": {
    "name": "ipython",
    "version": 3
   },
   "file_extension": ".py",
   "mimetype": "text/x-python",
   "name": "python",
   "nbconvert_exporter": "python",
   "pygments_lexer": "ipython3",
   "version": "3.8.3"
  }
 },
 "nbformat": 4,
 "nbformat_minor": 4
}
